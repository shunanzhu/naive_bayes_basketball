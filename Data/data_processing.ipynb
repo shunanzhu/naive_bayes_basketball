{
 "cells": [
  {
   "cell_type": "code",
   "execution_count": 8,
   "metadata": {},
   "outputs": [],
   "source": [
    "import pandas as pd\n",
    "import numpy as np\n",
    "import matplotlib.pyplot as plt\n",
    "\n",
    "# Load datasets\n",
    "train = pd.read_csv('train_data.csv')\n",
    "val = pd.read_csv('validation_data.csv')\n",
    "\n",
    "y_train = train['label'].values\n",
    "y_val = val['label'].values\n",
    "\n",
    "X_train = train.drop('label', axis=1)\n",
    "X_val = val.drop('label', axis=1)\n",
    "\n",
    "non_gaussian_columns = ['min_avg5']\n",
    "X_train.drop(non_gaussian_columns, axis=1, inplace=True)\n",
    "\n",
    "cetegorical_columns = ['team_abbreviation_home', 'team_abbreviation_away', 'season_type', 'home_wl_pre5', 'away_wl_pre5']\n",
    "categorical_feature_indices = [X_train.columns.get_loc(col) for col in cetegorical_columns]\n",
    "X_train.drop(cetegorical_columns, axis=1, inplace=True)\n",
    "\n",
    "X_train = X_train.values\n",
    "X_val = X_val.values\n"
   ]
  },
  {
   "cell_type": "code",
   "execution_count": 9,
   "metadata": {},
   "outputs": [
    {
     "name": "stdout",
     "output_type": "stream",
     "text": [
      "Mutual Information Scores: [0.03396565 0.01406657 0.         0.         0.01096418 0.00617596\n",
      " 0.01198473 0.00442638 0.00782029 0.00124342 0.0093432  0.02419343\n",
      " 0.         0.         0.00762363 0.00963615 0.00523165 0.00137268\n",
      " 0.00092843 0.         0.         0.         0.         0.        ]\n"
     ]
    }
   ],
   "source": [
    "from sklearn.feature_selection import mutual_info_classif\n",
    "import numpy as np\n",
    "\n",
    "mi = mutual_info_classif(X_train, y_train)\n",
    "print(\"Mutual Information Scores:\", mi)\n"
   ]
  },
  {
   "cell_type": "code",
   "execution_count": 10,
   "metadata": {},
   "outputs": [
    {
     "name": "stdout",
     "output_type": "stream",
     "text": [
      "Feature Weights: [1.5        0.91414087 0.5        0.5        0.82280186 0.68182954\n",
      " 0.85284851 0.6303193  0.73024106 0.53660812 0.77507777 1.21229094\n",
      " 0.5        0.5        0.72445117 0.78370277 0.6540276  0.54041369\n",
      " 0.52733449 0.5        0.5        0.5        0.5        0.5       ]\n"
     ]
    }
   ],
   "source": [
    "min_weight = 0.5\n",
    "max_weight = 1.5\n",
    "mi_normalized = (mi - mi.min()) / (mi.max() - mi.min())\n",
    "weights = min_weight + mi_normalized * (max_weight - min_weight)\n",
    "print(\"Feature Weights:\", weights)"
   ]
  },
  {
   "cell_type": "code",
   "execution_count": 14,
   "metadata": {},
   "outputs": [
    {
     "name": "stdout",
     "output_type": "stream",
     "text": [
      "[0, 1, 2, 15, 28]\n",
      "[1.         1.         1.         1.5        0.91414087 0.5\n",
      " 0.5        0.82280186 0.68182954 0.85284851 0.6303193  0.73024106\n",
      " 0.53660812 0.77507777 1.21229094 1.         0.5        0.5\n",
      " 0.72445117 0.78370277 0.6540276  0.54041369 0.52733449 0.5\n",
      " 0.5        0.5        0.5        0.5        1.        ]\n"
     ]
    }
   ],
   "source": [
    "A = weights\n",
    "B = categorical_feature_indices\n",
    "\n",
    "for idx in categorical_feature_indices:\n",
    "    weights = np.insert(weights, idx, 1)\n",
    "    \n",
    "print(categorical_feature_indices)\n",
    "print(weights)"
   ]
  }
 ],
 "metadata": {
  "kernelspec": {
   "display_name": ".venv",
   "language": "python",
   "name": "python3"
  },
  "language_info": {
   "codemirror_mode": {
    "name": "ipython",
    "version": 3
   },
   "file_extension": ".py",
   "mimetype": "text/x-python",
   "name": "python",
   "nbconvert_exporter": "python",
   "pygments_lexer": "ipython3",
   "version": "3.12.4"
  }
 },
 "nbformat": 4,
 "nbformat_minor": 2
}
